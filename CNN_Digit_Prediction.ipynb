{
  "nbformat": 4,
  "nbformat_minor": 0,
  "metadata": {
    "colab": {
      "name": "CNN - Digit Prediction",
      "provenance": [],
      "toc_visible": true
    },
    "kernelspec": {
      "name": "python3",
      "display_name": "Python 3"
    }
  },
  "cells": [
    {
      "cell_type": "code",
      "metadata": {
        "id": "XdO93ew6dSga",
        "colab_type": "code",
        "outputId": "570f83a0-6c6c-4d1d-a154-29bc5128ef94",
        "colab": {
          "base_uri": "https://localhost:8080/",
          "height": 122
        }
      },
      "source": [
        "from google.colab import drive\n",
        "drive.mount('/content/drive')"
      ],
      "execution_count": 1,
      "outputs": [
        {
          "output_type": "stream",
          "text": [
            "Go to this URL in a browser: https://accounts.google.com/o/oauth2/auth?client_id=947318989803-6bn6qk8qdgf4n4g3pfee6491hc0brc4i.apps.googleusercontent.com&redirect_uri=urn%3aietf%3awg%3aoauth%3a2.0%3aoob&response_type=code&scope=email%20https%3a%2f%2fwww.googleapis.com%2fauth%2fdocs.test%20https%3a%2f%2fwww.googleapis.com%2fauth%2fdrive%20https%3a%2f%2fwww.googleapis.com%2fauth%2fdrive.photos.readonly%20https%3a%2f%2fwww.googleapis.com%2fauth%2fpeopleapi.readonly\n",
            "\n",
            "Enter your authorization code:\n",
            "··········\n",
            "Mounted at /content/drive\n"
          ],
          "name": "stdout"
        }
      ]
    },
    {
      "cell_type": "code",
      "metadata": {
        "id": "66JICvWmd0LB",
        "colab_type": "code",
        "outputId": "4434cbab-1235-4c79-ead8-32b20beb9f9b",
        "colab": {
          "base_uri": "https://localhost:8080/",
          "height": 530
        }
      },
      "source": [
        "#importing the libraries\n",
        "import keras\n",
        "from keras.models import Sequential\n",
        "from keras.layers import Dense,Dropout,Flatten,Conv2D,MaxPooling2D\n",
        "from keras import backend as K\n",
        "import gzip\n",
        "import sys\n",
        "import pickle as cPickle\n",
        "\n",
        "f = gzip.open('/content/drive/My Drive/Colab Notebooks/mnist.pkl.gz', 'rb')\n",
        "if sys.version_info < (3,):\n",
        "    data = cPickle.load(f)\n",
        "else:\n",
        "    data = cPickle.load(f, encoding='bytes')\n",
        "f.close()\n",
        "(x_train, y_train), (x_test, y_test) = data\n",
        "\n",
        "#split into train and test data\n",
        "print(x_train.shape, y_train.shape)\n",
        "\n",
        "x_train = x_train.reshape(x_train.shape[0], 28, 28, 1)\n",
        "x_test = x_test.reshape(x_test.shape[0], 28, 28, 1)\n",
        "input_shape = (28, 28, 1)\n",
        "\n",
        "# convert class vectors to binary class matrices\n",
        "y_train = keras.utils.to_categorical(y_train, 10)\n",
        "y_test = keras.utils.to_categorical(y_test, 10)\n",
        "\n",
        "x_train = x_train.astype('float32')\n",
        "x_test = x_test.astype('float32')\n",
        "x_train /= 255\n",
        "x_test /= 255\n",
        "print('x_train shape:', x_train.shape)\n",
        "print(x_train.shape[0], 'train samples')\n",
        "print(x_test.shape[0], 'test samples')\n",
        "\n",
        "#create model\n",
        "batch_size = 128\n",
        "num_classes = 10\n",
        "epochs = 10\n",
        "\n",
        "model = Sequential()\n",
        "model.add(Conv2D(32, kernel_size=(5, 5),activation='relu',input_shape=input_shape))\n",
        "model.add(MaxPooling2D(pool_size=(2, 2)))\n",
        "model.add(Conv2D(64, (3, 3), activation='relu'))\n",
        "model.add(MaxPooling2D(pool_size=(2, 2)))\n",
        "model.add(Flatten())\n",
        "model.add(Dense(128, activation='relu'))\n",
        "model.add(Dropout(0.3))\n",
        "model.add(Dense(64, activation='relu'))\n",
        "model.add(Dropout(0.5))\n",
        "model.add(Dense(num_classes, activation='softmax'))\n",
        "\n",
        "model.compile(loss=keras.losses.categorical_crossentropy,optimizer=keras.optimizers.Adadelta(),metrics=['accuracy'])\n",
        "\n",
        "#fitting the model\n",
        "model.fit(x_train, y_train,batch_size=batch_size,epochs=epochs,verbose=1,validation_data=(x_test, y_test))\n",
        "print(\"The model has successfully trained\")\n",
        "\n",
        "model.save('collabmnist.h5')\n",
        "print('saving the model as collabmnist.h5')\n",
        "\n",
        "score = model.evaluate(x_test, y_test, verbose=0)\n",
        "print('Test loss:', score[0])\n",
        "print('Test accuracy:', score[1])"
      ],
      "execution_count": 13,
      "outputs": [
        {
          "output_type": "stream",
          "text": [
            "(60000, 28, 28) (60000,)\n",
            "x_train shape: (60000, 28, 28, 1)\n",
            "60000 train samples\n",
            "10000 test samples\n",
            "Train on 60000 samples, validate on 10000 samples\n",
            "Epoch 1/10\n",
            "60000/60000 [==============================] - 46s 761us/step - loss: 0.3890 - acc: 0.8784 - val_loss: 0.0695 - val_acc: 0.9798\n",
            "Epoch 2/10\n",
            "60000/60000 [==============================] - 45s 755us/step - loss: 0.1131 - acc: 0.9704 - val_loss: 0.0441 - val_acc: 0.9864\n",
            "Epoch 3/10\n",
            "60000/60000 [==============================] - 45s 751us/step - loss: 0.0807 - acc: 0.9790 - val_loss: 0.0347 - val_acc: 0.9888\n",
            "Epoch 4/10\n",
            "60000/60000 [==============================] - 45s 753us/step - loss: 0.0640 - acc: 0.9835 - val_loss: 0.0443 - val_acc: 0.9882\n",
            "Epoch 5/10\n",
            "60000/60000 [==============================] - 45s 752us/step - loss: 0.0547 - acc: 0.9863 - val_loss: 0.0356 - val_acc: 0.9909\n",
            "Epoch 6/10\n",
            "60000/60000 [==============================] - 45s 752us/step - loss: 0.0472 - acc: 0.9879 - val_loss: 0.0264 - val_acc: 0.9926\n",
            "Epoch 7/10\n",
            "60000/60000 [==============================] - 45s 751us/step - loss: 0.0418 - acc: 0.9891 - val_loss: 0.0273 - val_acc: 0.9919\n",
            "Epoch 8/10\n",
            "60000/60000 [==============================] - 45s 754us/step - loss: 0.0393 - acc: 0.9898 - val_loss: 0.0260 - val_acc: 0.9925\n",
            "Epoch 9/10\n",
            "60000/60000 [==============================] - 45s 742us/step - loss: 0.0360 - acc: 0.9907 - val_loss: 0.0255 - val_acc: 0.9928\n",
            "Epoch 10/10\n",
            "60000/60000 [==============================] - 45s 754us/step - loss: 0.0302 - acc: 0.9926 - val_loss: 0.0271 - val_acc: 0.9933\n",
            "The model has successfully trained\n",
            "saving the model as collabmnist.h5\n",
            "Test loss: 0.027090303278322243\n",
            "Test accuracy: 0.9933\n"
          ],
          "name": "stdout"
        }
      ]
    },
    {
      "cell_type": "code",
      "metadata": {
        "id": "300dRYJ7ugMY",
        "colab_type": "code",
        "colab": {
          "base_uri": "https://localhost:8080/",
          "height": 34
        },
        "outputId": "65c86dae-7a1c-4c2b-dbcf-4f55f5c71e01"
      },
      "source": [
        "prediction = model.predict(x_test)\n",
        "import numpy as np\n",
        "print(np.argmax(prediction[10]))"
      ],
      "execution_count": 15,
      "outputs": [
        {
          "output_type": "stream",
          "text": [
            "0\n"
          ],
          "name": "stdout"
        }
      ]
    },
    {
      "cell_type": "code",
      "metadata": {
        "id": "OaED4H2xvHYq",
        "colab_type": "code",
        "colab": {
          "base_uri": "https://localhost:8080/",
          "height": 265
        },
        "outputId": "b9f85f12-836e-409d-e2d3-150809d9b1d5"
      },
      "source": [
        "import matplotlib.pyplot as plt\n",
        "plt.imshow(x_test[10].reshape(28,28),cmap=plt.cm.binary)\n",
        "plt.show()"
      ],
      "execution_count": 16,
      "outputs": [
        {
          "output_type": "display_data",
          "data": {
            "image/png": "[encoded data removed]",
            "text/plain": [
              "<Figure size 432x288 with 1 Axes>"
            ]
          },
          "metadata": {
            "tags": []
          }
        }
      ]
    }
  ]
}